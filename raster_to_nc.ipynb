{
 "cells": [
  {
   "cell_type": "code",
   "execution_count": null,
   "id": "f393ec55-a23e-4e00-9e03-23c52d673e30",
   "metadata": {},
   "outputs": [],
   "source": [
    "##code to convert raster data (.bil and .hdr file needed) to netcdf format\n",
    "##specifically did for the PRISM rainfall data (downloaded from https://prism.oregonstate.edu/recent)\n",
    "##https://gis.stackexchange.com/questions/379005/using-raster-transform-function-of-rasterio-in-python\n",
    "\n",
    "#Amanda Sinning"
   ]
  },
  {
   "cell_type": "code",
   "execution_count": 2,
   "id": "59d475f8-858f-4470-a8a2-27cadf77d199",
   "metadata": {},
   "outputs": [],
   "source": [
    "import rasterio\n",
    "import xarray as xr\n",
    "import numpy as np\n",
    "from netCDF4 import Dataset"
   ]
  },
  {
   "cell_type": "code",
   "execution_count": 4,
   "id": "b3a10fd8-e4f8-4027-8938-607350d7e4a6",
   "metadata": {},
   "outputs": [
    {
     "name": "stdout",
     "output_type": "stream",
     "text": [
      "14\n",
      "15\n",
      "16\n",
      "17\n",
      "18\n"
     ]
    }
   ],
   "source": [
    "##if multiple days, loop through days (days for Hurricane Ivan 2004)\n",
    "days = [14, 15, 16, 17, 18]\n",
    "\n",
    "for day in days:\n",
    "    print(day)"
   ]
  },
  {
   "cell_type": "code",
   "execution_count": 6,
   "id": "079eaad6-f148-49f9-8eb0-d1aada86d1f1",
   "metadata": {},
   "outputs": [
    {
     "name": "stdout",
     "output_type": "stream",
     "text": [
      "NetCDF file created: PRISM_ppt_stable_4kmD1_20040914.nc\n",
      "NetCDF file created: PRISM_ppt_stable_4kmD1_20040915.nc\n",
      "NetCDF file created: PRISM_ppt_stable_4kmD1_20040916.nc\n",
      "NetCDF file created: PRISM_ppt_stable_4kmD1_20040917.nc\n",
      "NetCDF file created: PRISM_ppt_stable_4kmD1_20040918.nc\n"
     ]
    }
   ],
   "source": [
    "##loop thru the days, and generate/load in the .bil and .hdr file for each day\n",
    "for day in days: #processes each day thru the nested loop below, one by one\n",
    "    bil_file = f\"/scratch/amanda/prism_data/9_{day}_04/PRISM_ppt_stable_4kmD2_200409{day}_bil.bil\" #bil file\n",
    "    hdr_file = f\"/scratch/amanda/prism_data/9_{day}_04/PRISM_ppt_stable_4kmD2_200409{day}_bil.hdr\" #.hdr/metadata file\n",
    "\n",
    "    #open the .bil raster file\n",
    "    with rasterio.open(bil_file) as src:\n",
    "        #read data and metadata\n",
    "        data = src.read(1)  #read the first raster band, which is precip data here, into the 'data' array\n",
    "        transform = src.transform #map pixel coords to geographic coords (.transform in rasterio accesses the affine matrix)\n",
    "        ##note: rasterio uses the affine transformation matrix, which details how pixel locations in the raster grid relate to geographic coords \n",
    "        crs = src.crs #get coordinate reference system\n",
    "        nodata = src.nodata \n",
    "        width = src.width #width and height of the raster grid\n",
    "        height = src.height\n",
    "\n",
    "    #replace nodata values with NaN, so they will be Nan in the netcdf\n",
    "    if nodata is not None:\n",
    "        data = np.where(data == nodata, np.nan, data)\n",
    "\n",
    "    #note the transform matrix: \n",
    "    #create coordinate arrays for longitude and latitude based on the transformation from pixel to geographic coords\n",
    "    ##helpful for figuring out what was needed for lat and lon below: https://gis.stackexchange.com/questions/379005/using-raster-transform-function-of-rasterio-in-python\n",
    "    #from the post above, if affine matrix is [a,b,c,d,e,f] -> [0,1,2,3,4,5] (use the numerical indicies to access the different elements of 'transform'\n",
    "    #transform[2] is x coordinate of the top left corner, and transform[0] is the pixel width for each column, so increments by pixel width\n",
    "    #transform[5] is y-coord of top left corner and transform[5] is the pixel height\n",
    "    lon = np.arange(transform[2], transform[2] + width * transform[0], transform[0]) #east-west coords of raster grid\n",
    "    lat = np.arange(transform[5], transform[5] + height * transform[4], transform[4])\n",
    "\n",
    "    #reverse latitude array if needed (depends on grid orientation)\n",
    "    #sometimes after transformation, the lat values decrease as go down the array, but we want them in standard north to south order\n",
    "    #this happens because raster height is usually negative (y dimension is oriented in the opposite direction (upwards) to the raster row direction (downwards))\n",
    "    if lat[1] < lat[0]:\n",
    "        lat = lat[::-1]\n",
    "        data = data[::-1, :]\n",
    "\n",
    "    #convert data to an xarray dataset - basically setting up the variables and metadata in the .nc file to be saved \n",
    "    #define the preci with lat and lon, so it is the correct shape\n",
    "    \n",
    "    ds = xr.Dataset(\n",
    "        {\n",
    "            \"precipitation\": ([\"lat\", \"lon\"], data),\n",
    "        },\n",
    "        coords={\n",
    "            \"lon\": lon,\n",
    "            \"lat\": lat,\n",
    "        },\n",
    "        attrs={\n",
    "            \"description\": \"PRISM precipitation data\",\n",
    "            \"units\": \"mm\",\n",
    "            \"crs\": crs.to_string() if crs else \"Unknown\",\n",
    "        },\n",
    "    )\n",
    "\n",
    "    # Save the xarray Dataset to NetCDF format\n",
    "    output_file = f\"PRISM_ppt_stable_4kmD1_200409{day}.nc\"\n",
    "    ds.to_netcdf(output_file)\n",
    "\n",
    "    print(f\"NetCDF file created: {output_file}\")\n"
   ]
  },
  {
   "cell_type": "code",
   "execution_count": 10,
   "id": "56d79f3d-73eb-4ab3-877c-f92bb2a79c69",
   "metadata": {},
   "outputs": [
    {
     "name": "stdout",
     "output_type": "stream",
     "text": [
      "<class 'netCDF4._netCDF4.Dataset'>\n",
      "root group (NETCDF4 data model, file format HDF5):\n",
      "    description: PRISM precipitation data\n",
      "    units: mm\n",
      "    crs: OGC:CRS83\n",
      "    dimensions(sizes): lat(621), lon(1405)\n",
      "    variables(dimensions): float32 precipitation(lat, lon), float64 lon(lon), float64 lat(lat)\n",
      "    groups: \n",
      "<class 'netCDF4._netCDF4.Dataset'>\n",
      "root group (NETCDF4 data model, file format HDF5):\n",
      "    description: PRISM precipitation data\n",
      "    units: mm\n",
      "    crs: OGC:CRS83\n",
      "    dimensions(sizes): lat(621), lon(1405)\n",
      "    variables(dimensions): float32 precipitation(lat, lon), float64 lon(lon), float64 lat(lat)\n",
      "    groups: \n"
     ]
    }
   ],
   "source": [
    "#quickly test and check the correct data was converted\n",
    "ds = Dataset(\"PRISM_ppt_stable_4kmD1_20040917.nc\")\n",
    "print(ds)\n",
    "ds1 = Dataset(\"PRISM_ppt_stable_4kmD1_20040918.nc\")\n",
    "print(ds1)"
   ]
  },
  {
   "cell_type": "code",
   "execution_count": 11,
   "id": "7e8107b4-66a6-472b-bf6e-1fc11769e3a9",
   "metadata": {},
   "outputs": [
    {
     "data": {
      "text/plain": [
       "{'precipitation': <class 'netCDF4._netCDF4.Variable'>\n",
       " float32 precipitation(lat, lon)\n",
       "     _FillValue: nan\n",
       " unlimited dimensions: \n",
       " current shape = (621, 1405)\n",
       " filling on,\n",
       " 'lon': <class 'netCDF4._netCDF4.Variable'>\n",
       " float64 lon(lon)\n",
       "     _FillValue: nan\n",
       " unlimited dimensions: \n",
       " current shape = (1405,)\n",
       " filling on,\n",
       " 'lat': <class 'netCDF4._netCDF4.Variable'>\n",
       " float64 lat(lat)\n",
       "     _FillValue: nan\n",
       " unlimited dimensions: \n",
       " current shape = (621,)\n",
       " filling on}"
      ]
     },
     "execution_count": 11,
     "metadata": {},
     "output_type": "execute_result"
    }
   ],
   "source": [
    "ds.variables"
   ]
  },
  {
   "cell_type": "code",
   "execution_count": 12,
   "id": "bfb6d9c9-e9d8-4e8a-8807-e49892bd0095",
   "metadata": {},
   "outputs": [
    {
     "name": "stdout",
     "output_type": "stream",
     "text": [
      "263.469\n",
      "(621, 1405)\n",
      "210.044\n",
      "(621, 1405)\n"
     ]
    }
   ],
   "source": [
    "rain = ds.variables['precipitation']\n",
    "print(np.nanmax(rain))\n",
    "print(np.shape(rain))\n",
    "\n",
    "rain1 = ds1.variables['precipitation']\n",
    "print(np.nanmax(rain1))\n",
    "print(np.shape(rain1))"
   ]
  },
  {
   "cell_type": "code",
   "execution_count": null,
   "id": "c65ac7e0-9efa-4269-90da-9848a1726c0f",
   "metadata": {},
   "outputs": [],
   "source": []
  }
 ],
 "metadata": {
  "kernelspec": {
   "display_name": "MEA443",
   "language": "python",
   "name": "mea443"
  },
  "language_info": {
   "codemirror_mode": {
    "name": "ipython",
    "version": 3
   },
   "file_extension": ".py",
   "mimetype": "text/x-python",
   "name": "python",
   "nbconvert_exporter": "python",
   "pygments_lexer": "ipython3",
   "version": "3.11.0"
  }
 },
 "nbformat": 4,
 "nbformat_minor": 5
}
